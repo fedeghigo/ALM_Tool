{
 "cells": [
  {
   "attachments": {},
   "cell_type": "markdown",
   "metadata": {},
   "source": [
    "# Mirai ALM Tool"
   ]
  },
  {
   "attachments": {},
   "cell_type": "markdown",
   "metadata": {},
   "source": [
    "### General Resources:\n",
    "- Hull, OPTIONS, FUTURES, AND OTHER DERIVATIVES\n",
    "- Hilpisch, Derivatives Analytics with Python"
   ]
  },
  {
   "attachments": {},
   "cell_type": "markdown",
   "metadata": {},
   "source": [
    "## 1.1 Sensitivity"
   ]
  },
  {
   "attachments": {},
   "cell_type": "markdown",
   "metadata": {},
   "source": [
    "Requirement:\n",
    "- Imagine a portfolio of securities whose value can be approximately represented by a single risk factor x (random variable), as follows: ppv=f(x) = k1 * e^(-T1*x),\n",
    "where k1 and T1 are constants. \n",
    "\n",
    "- The portfolio owner wants to add a new security to the portfolio, which has the generic form g(x, k2, T2), where x is the same\n",
    "random variable. \n",
    "\n",
    "- The constants k1 and k2 are the nominal values of the securities. \n",
    "\n",
    "- Create a function that returns four values: \n",
    "    - the value of the old portfolio, the\n",
    "value of the new portfolio, the sensitivity of the old portfolio to factor x, and the sensitivity of the new portfolio to factor x taking into account the weighted face\n",
    "value (positive for long positions, negative for short positions). The inputs to the function should be k1, T1, x and g(x, k2, T2)."
   ]
  },
  {
   "attachments": {},
   "cell_type": "markdown",
   "metadata": {},
   "source": [
    "### Resources: \n",
    "#### - https://www.albany.edu/~bd445/Economics_466_Financial_Economics_Slides_Spring_2014/Duration.pdf"
   ]
  },
  {
   "cell_type": "code",
   "execution_count": 1,
   "metadata": {},
   "outputs": [],
   "source": [
    "import numpy as np \n",
    "import  pandas as pd\n",
    "\n",
    "def portfolio_values_and_sensitivities(k1, T1, x, g_func, k2, T2):\n",
    "    # value of the old portfolio\n",
    "    value_stock1 = k1 * np.exp(-T1 * x)\n",
    "    # sensitivity of the stock to factor x - As derivatives of value stocks\n",
    "    sensitivity_stock_1 = -k1 * T1 * np.exp(-T1 * x)\n",
    "    # value of the 2 stock portfolio using the generic function g(x, k2, T2)\n",
    "    value_stock2 = g_func(x, k2, T2)\n",
    "    # sensitivity of stock 2 to factor x \n",
    "    sensitivity_stock2 = -g_func(x, k2, T2) * T2\n",
    "    # Portfolio as sum of stock and because the Portfolio has the sensitivity to factor x is a sum\n",
    "    portfolio_value_old = k1 + k2\n",
    "    portfolio_value_new = value_stock1 + value_stock2 \n",
    "    portfolio_sensitivity = sensitivity_stock_1 + sensitivity_stock2 \n",
    "    \n",
    "    return value_stock1, value_stock2, sensitivity_stock_1, sensitivity_stock2 , portfolio_value_old ,portfolio_value_new  , portfolio_sensitivity\n",
    "\n",
    "# Example of the generic function g(x, k2, T2) where g(x, k2, T2) = k2 * e^(-T2*x)\n",
    "def generic_security_value(x, k2, T2):\n",
    "    return k2 * np.exp(-T2 * x)"
   ]
  },
  {
   "cell_type": "code",
   "execution_count": 2,
   "metadata": {},
   "outputs": [
    {
     "name": "stdout",
     "output_type": "stream",
     "text": [
      "Value of the stock1: 810.5842459701871\n",
      "Value of the stock2: 720.2596180690125\n",
      "Sensitivity of the stock1  to factor x: -81.05842459701871\n",
      "Sensitivity of the stock1 to factor x: -36.012980903450625\n",
      "Value of the old portfolio with the 2 stock: 1800\n",
      "Value of the portfolio with the 2 stock: 1530.8438640391996\n",
      "Sensitivity of the portfolio with the 2 stock: -117.07140550046934\n"
     ]
    }
   ],
   "source": [
    "# Example usage\n",
    "np.random.seed(22)\n",
    "x = np.random.choice(24)/10\n",
    "k1 = 1000\n",
    "T1 = 0.1\n",
    "k2 = 800\n",
    "T2 = 0.05\n",
    "\n",
    "value_stock1, value_stock2, sensitivity_stock_1, sensitivity_stock2 , portfolio_value_old ,portfolio_value_new  , portfolio_sensitivity = portfolio_values_and_sensitivities(k1, T1, x, generic_security_value, k2, T2)\n",
    "\n",
    "print(\"Value of the stock1:\", value_stock1)\n",
    "print(\"Value of the stock2:\", value_stock2)\n",
    "print(\"Sensitivity of the stock1  to factor x:\", sensitivity_stock_1)\n",
    "print(\"Sensitivity of the stock1 to factor x:\", sensitivity_stock2)\n",
    "print(\"Value of the old portfolio with the 2 stock:\", portfolio_value_old)\n",
    "print(\"Value of the portfolio with the 2 stock:\", portfolio_value_new)\n",
    "print(\"Sensitivity of the portfolio with the 2 stock:\", portfolio_sensitivity)"
   ]
  },
  {
   "cell_type": "markdown",
   "metadata": {},
   "source": [
    "## 1.2 Stochastic analysis"
   ]
  },
  {
   "attachments": {},
   "cell_type": "markdown",
   "metadata": {},
   "source": [
    "Imagine that x is a random variable that follows a simple stochastic process;\n",
    "- the Wiener process: dx = x * q * dW\n",
    "- Build a function that calculates the value of the new portfolio\n",
    "- taking as inputs: \n",
    "    - k1\n",
    "    - T1\n",
    "    - g(x, k2, T2)\n",
    "    - q \n",
    "    - deltaStepOfWiener \n",
    "    - numMaxFinalSteps"
   ]
  },
  {
   "cell_type": "markdown",
   "metadata": {},
   "source": [
    "### info about winer process / geometric brownian motion \n",
    "##### - https://hpaulkeeler.com/wiener-or-brownian-motion-process/\n",
    "##### - https://pyquantnews.com/how-to-simulate-stock-prices-with-python/"
   ]
  },
  {
   "cell_type": "code",
   "execution_count": 3,
   "metadata": {},
   "outputs": [],
   "source": [
    "def winer_process(x , q , dw):\n",
    "    dx = x * q * dw \n",
    "    return dx"
   ]
  },
  {
   "cell_type": "code",
   "execution_count": 4,
   "metadata": {},
   "outputs": [],
   "source": [
    "import numpy as np\n",
    "def simulate(k1, T1, generic_security_value, q, k2, T2, delta_step_of_wiener, num_max_final_steps):\n",
    "    # Start at 0\n",
    "    value_new_portfolio = 0\n",
    "    sensitivity = 0\n",
    "    x = 0\n",
    "    for i in range(num_max_final_steps):\n",
    "        delta_W = np.random.normal() * np.sqrt(delta_step_of_wiener)\n",
    "        x = winer_process(k1, q, delta_W)\n",
    "        # assumption: g_func = S0 , mean and variance are 0 , 1 as X is Random from the normal distribution.\n",
    "        value_new_portfolio += generic_security_value(x, k2, T2) * np.exp(-T1 * delta_step_of_wiener)\n",
    "        sensitivity += -generic_security_value(x, k2, T2) * T2 * np.exp(-T1 * delta_step_of_wiener)\n",
    "    return value_new_portfolio, sensitivity"
   ]
  },
  {
   "cell_type": "code",
   "execution_count": 5,
   "metadata": {},
   "outputs": [
    {
     "name": "stdout",
     "output_type": "stream",
     "text": [
      "Value of the new portfolio considering the Wiener process: 4.313253795103076e+19\n"
     ]
    }
   ],
   "source": [
    "# Example usage\n",
    "k1 = 100\n",
    "T1 = 1\n",
    "k2 = 800\n",
    "T2 = 5\n",
    "q = 0.2\n",
    "delta_step_of_wiener = 0.01\n",
    "num_max_final_steps = 10000\n",
    "\n",
    "value_new_portfolio , sensy= simulate(k1, T1,  generic_security_value, q,k2 , T2, delta_step_of_wiener, num_max_final_steps )\n",
    "\n",
    "print(\"Value of the new portfolio considering the Wiener process:\", value_new_portfolio)"
   ]
  },
  {
   "cell_type": "markdown",
   "metadata": {},
   "source": [
    "## 1.3 Optimization"
   ]
  },
  {
   "attachments": {},
   "cell_type": "markdown",
   "metadata": {},
   "source": [
    "Imagine the portfolio owner wants to offset the risk associated with x in the new portfolio. \n",
    "- To achieve this, the T2 parameter, instead of being a constant, can be adjusted. \n",
    "- Develop a routine that requires inputs such as k1, T1, x, and g(x, k2, t2) to identify\n",
    "the potential values of t2 that offset all risk associated with x.\n",
    "- Use any optimization techniques as needed."
   ]
  },
  {
   "cell_type": "markdown",
   "metadata": {},
   "source": [
    "####  Resources :\n",
    "##### - https://realpython.com/python-scipy-cluster-optimize/ (Optimize Module in SciPy)\n",
    "##### - https://www.investopedia.com/terms/o/offsetting-transaction.asp#:~:text=Key%20Takeaways,as%20close%20as%20possible)%20instrument."
   ]
  },
  {
   "cell_type": "code",
   "execution_count": 6,
   "metadata": {},
   "outputs": [],
   "source": [
    "import warnings\n",
    "warnings.filterwarnings(\"ignore\")\n",
    "import numpy as np\n",
    "from scipy.optimize import minimize_scalar"
   ]
  },
  {
   "cell_type": "code",
   "execution_count": 7,
   "metadata": {},
   "outputs": [],
   "source": [
    "def find_offsetting_T2(k1, T1, g_func, q, delta_step_of_wiener, num_max_final_steps):\n",
    "    # Define the objective function to trace the function (lambda) and minimize the sensitivity_new_portfolio (simulate function) with T2 as value to be optimazide for find the minimum of the function\n",
    "    objective_function = lambda T2: simulate(k1, T1, g_func, q, k2, T2, delta_step_of_wiener, num_max_final_steps)[1]\n",
    "    \n",
    "    # Perform the optimization to find the offsetting T2 value\n",
    "    result = minimize_scalar(objective_function)\n",
    "    \n",
    "    return result , result.x"
   ]
  },
  {
   "cell_type": "code",
   "execution_count": 8,
   "metadata": {},
   "outputs": [
    {
     "name": "stdout",
     "output_type": "stream",
     "text": [
      "info of the T2 optimization:      fun: -inf\n",
      " message: '\\nOptimization terminated successfully;\\nThe returned value satisfies the termination criteria\\n(using xtol = 1.48e-08 )'\n",
      "    nfev: 43\n",
      "     nit: 35\n",
      " success: True\n",
      "       x: 27.416408113280472\n",
      "value T2 that Offset, value: 27.416408113280472\n"
     ]
    }
   ],
   "source": [
    "# Example usage\n",
    "k1 = 1000\n",
    "T1 = 0.1\n",
    "q = 0.2\n",
    "delta_step_of_wiener = 0.01\n",
    "num_max_final_steps = 1000\n",
    "x = 1.0\n",
    "k2 = 800\n",
    "info , T2_offsetting = find_offsetting_T2(k1, T1,generic_security_value, q, delta_step_of_wiener, num_max_final_steps)\n",
    "\n",
    "print(\"info of the T2 optimization:\", info)\n",
    "print(\"value T2 that Offset, value:\", T2_offsetting)"
   ]
  }
 ],
 "metadata": {
  "kernelspec": {
   "display_name": "mlops",
   "language": "python",
   "name": "python3"
  },
  "language_info": {
   "codemirror_mode": {
    "name": "ipython",
    "version": 3
   },
   "file_extension": ".py",
   "mimetype": "text/x-python",
   "name": "python",
   "nbconvert_exporter": "python",
   "pygments_lexer": "ipython3",
   "version": "3.9.13"
  },
  "orig_nbformat": 4,
  "vscode": {
   "interpreter": {
    "hash": "7ea5c3a60d30c89d019af8d794cb052b143a0accca6c5e6737949a08b9db4b57"
   }
  }
 },
 "nbformat": 4,
 "nbformat_minor": 2
}
